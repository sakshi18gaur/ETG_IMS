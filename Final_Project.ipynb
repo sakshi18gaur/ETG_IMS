{
  "nbformat": 4,
  "nbformat_minor": 0,
  "metadata": {
    "colab": {
      "name": "Untitled10.ipynb",
      "provenance": [],
      "collapsed_sections": []
    },
    "kernelspec": {
      "name": "python3",
      "display_name": "Python 3"
    },
    "language_info": {
      "name": "python"
    }
  },
  "cells": [
    {
      "cell_type": "markdown",
      "metadata": {
        "id": "u6uOandKPwJm"
      },
      "source": [
        "# INVENTORY MANAGEMENT SYSTEM"
      ]
    },
    {
      "cell_type": "markdown",
      "metadata": {
        "id": "1M0a37BIOVza"
      },
      "source": [
        "**Loading and Reading of Dataset**"
      ]
    },
    {
      "cell_type": "code",
      "metadata": {
        "id": "tqVWHx_Tejmk"
      },
      "source": [
        "import json\n",
        "\n",
        "json_file = open(\"record_file.json\" , \"r\")\n",
        "json_object = json.load(json_file)"
      ],
      "execution_count": null,
      "outputs": []
    },
    {
      "cell_type": "markdown",
      "metadata": {
        "id": "o9Oy3ACCOUR_"
      },
      "source": [
        "**Taking product id and quantity from the user**"
      ]
    },
    {
      "cell_type": "code",
      "metadata": {
        "colab": {
          "base_uri": "https://localhost:8080/"
        },
        "id": "OY105xNWeul0",
        "outputId": "b09d92cf-f729-493d-fd2e-28e6f89ba71b"
      },
      "source": [
        "print(\"WELCOME!!!\")\n",
        "prod_n = input(\"Enter the product id you want to purchase : \")\n",
        "prod_quan = int(input(\"Enter the quantity : \"))"
      ],
      "execution_count": null,
      "outputs": [
        {
          "name": "stdout",
          "output_type": "stream",
          "text": [
            "WELCOME!!!\n",
            "Enter the product id you want to purchase : 104\n",
            "Enter the quantity : 2\n"
          ]
        }
      ]
    },
    {
      "cell_type": "markdown",
      "metadata": {
        "id": "6cjq0fJ5OniV"
      },
      "source": [
        "**Fetching the items and updating the record file**"
      ]
    },
    {
      "cell_type": "code",
      "metadata": {
        "colab": {
          "base_uri": "https://localhost:8080/"
        },
        "id": "KnDOZXbPe1HR",
        "outputId": "6dfe7da7-0c17-47c4-bc7f-5a1ccd0c0db8"
      },
      "source": [
        "\n",
        "\n",
        "try:\n",
        "    json_file = open(\"record_file.json\" , \"w\")\n",
        "    json_object[prod_n]['Quantity'] = json_object[prod_n]['Quantity'] - prod_quan\n",
        "    if json_object[prod_n]['Quantity']>0:\n",
        "        json_file.write(json.dumps(json_object))\n",
        "        print(\"Items fetched successfully!\")\n",
        "    else:\n",
        "        print(\"Sorry! Not enough items\")\n",
        "except:\n",
        "       print(\"Error!\")\n",
        "    "
      ],
      "execution_count": null,
      "outputs": [
        {
          "output_type": "stream",
          "name": "stdout",
          "text": [
            "Items fetched successfully!\n"
          ]
        }
      ]
    },
    {
      "cell_type": "markdown",
      "metadata": {
        "id": "qLQCh5n3O2QW"
      },
      "source": [
        "**Maintaining purchased items to the sales file**"
      ]
    },
    {
      "cell_type": "code",
      "metadata": {
        "id": "N72k_mKae6L0"
      },
      "source": [
        "\n",
        "\n",
        "json_sales_file = open(\"sales_file.json\" , \"w\")\n",
        "json_sales_object = json_object[prod_n]\n",
        "json_object[prod_n]['Quantity'] = prod_quan\n",
        "json_object[prod_n]['Amount paid']  = prod_quan * json_object[prod_n]['Price']\n",
        "\n",
        "json.dump(json_sales_object , json_sales_file)\n"
      ],
      "execution_count": null,
      "outputs": []
    },
    {
      "cell_type": "markdown",
      "metadata": {
        "id": "7S4t_iwGQDmG"
      },
      "source": [
        "**Billing**"
      ]
    },
    {
      "cell_type": "code",
      "metadata": {
        "colab": {
          "base_uri": "https://localhost:8080/"
        },
        "id": "tLVa8pDVQHf0",
        "outputId": "79a661b9-0164-4bb4-f113-6590356b14bb"
      },
      "source": [
        "print(\"BILL\".center(26,'*'))\n",
        "print(\"Thank you for visiting us!\")\n",
        "print(\"Item(s) Purchased : \", json_object[prod_n]['Product_name'])\n",
        "json_object[prod_n]['Quantity'] = prod_quan\n",
        "print(\"Price of each item: \", json_object[prod_n]['Price'])\n",
        "print(\"Number of items: \", json_object[prod_n]['Quantity'])\n",
        "\n",
        "json_object[prod_n]['Amount paid']  = prod_quan * json_object[prod_n]['Price']\n",
        "print(\"Amount paid : \", json_object[prod_n]['Amount paid'])"
      ],
      "execution_count": null,
      "outputs": [
        {
          "output_type": "stream",
          "name": "stdout",
          "text": [
            "***********BILL***********\n",
            "Thank you for visiting us!\n",
            "Item(s) Purchased :  Gems\n",
            "Price of each item:  10\n",
            "Number of items:  2\n",
            "Amount paid :  20\n"
          ]
        }
      ]
    },
    {
      "cell_type": "markdown",
      "metadata": {
        "id": "JcoEHqDLO1Gm"
      },
      "source": [
        "**Closing the files**"
      ]
    },
    {
      "cell_type": "code",
      "metadata": {
        "id": "ggzo6QqMe9Ss"
      },
      "source": [
        "json_file.close()\n",
        "json_sales_file.close()"
      ],
      "execution_count": null,
      "outputs": []
    }
  ]
}